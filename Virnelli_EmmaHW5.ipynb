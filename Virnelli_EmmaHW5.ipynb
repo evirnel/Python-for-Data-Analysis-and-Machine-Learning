{
 "cells": [
  {
   "cell_type": "markdown",
   "metadata": {},
   "source": [
    "# Homework 5\n",
    "\n",
    "### Name: Emma Virnelli\n",
    "### Collaborator: Tomiwa\n",
    "\n",
    "\n",
    "DATA 201\n",
    "\n",
    "Fall 2024\n",
    "\n",
    "Tufts University"
   ]
  },
  {
   "cell_type": "markdown",
   "metadata": {},
   "source": [
    "This homework explores KNN, Decision Trees, and Random Forests. The first question reviews training a KNN model. Subsequent questions provide an in-depth examination of Gini impurity and the mechanics of training a Decision Tree. Following this, we delve into basic implementations of both Decision Trees and Random Forests, accompanied by an introduction to tuning hyperparameters."
   ]
  },
  {
   "cell_type": "markdown",
   "metadata": {},
   "source": [
    "# Question 1\n",
    "\n",
    "(a) Load the Heart Disease dataset and name it 'df'. Conduct data cleaning.\n",
    "\n",
    "- Perform any data cleaning or data transformation steps if required\n",
    "- Explain some of the data cleaning steps which you can perform on **any** data set\n",
    "\n",
    "For clarification, please find the metadata below:\n",
    "- BPMeds: whether or not the patient was on blood pressure medication\n",
    "- prevalentStroke: whether or not the patient had previously had a stroke\n",
    "- prevalentHyp: whether or not the patient was hypertensive\n",
    "- diabetes: whether or not the patient had diabetes\n",
    "- totChol: total cholesterol level\n",
    "- sysBP: systolic blood pressure\n",
    "- diaBP: diastolic blood pressure\n",
    "- BMI: Body Mass Index\n",
    "- heartRate: heart rate\n",
    "- glucose: glucose level\n",
    "- 10 year risk of coronary heart disease CHD (binary: “1”, means “Yes”, “0” means “No”) (Predictor Variable)\n",
    "\n",
    "(b) Create two dataframes for features and target variable (TenYearCHD). Conduct a full model training and testing (30%) for a KNN model with K=5. Print the accuracy, confusion matrix, and explain what the confuison matrix tells you\n",
    "\n",
    "(c) Create a range from 1 to 50 going at steps of 2 then make a list where you will store average accuracy at each k value\n",
    "use a for loop to compute the average accuracy over 10-fold cross validation for each k value. Plot the average accuracy for each k values and determine which k value you will choose."
   ]
  },
  {
   "cell_type": "code",
   "execution_count": 8,
   "metadata": {},
   "outputs": [],
   "source": [
    "import pandas as pd\n",
    "import numpy as np\n",
    "from sklearn.model_selection import train_test_split, cross_val_score\n",
    "from sklearn.neighbors import KNeighborsClassifier\n",
    "from sklearn.metrics import accuracy_score, confusion_matrix\n",
    "import matplotlib.pyplot as plt"
   ]
  },
  {
   "cell_type": "code",
   "execution_count": 9,
   "metadata": {},
   "outputs": [],
   "source": [
    "#Q1 (a)\n",
    "\n",
    "# Load the Heart Disease dataset\n",
    "df = pd.read_csv(\"Heart Disease.csv\")\n",
    "\n",
    "\n",
    "# Check is there is any null values and drop null values in order to clean it \n",
    "df.isnull().sum()\n",
    "df = df.dropna() \n"
   ]
  },
  {
   "cell_type": "code",
   "execution_count": 10,
   "metadata": {},
   "outputs": [
    {
     "name": "stdout",
     "output_type": "stream",
     "text": [
      "Accuracy: 0.8279\n",
      "Confusion Matrix:\n",
      "[[893  29]\n",
      " [160  16]]\n"
     ]
    }
   ],
   "source": [
    "#Q1 (b)\n",
    "\n",
    "# Create two dataframes for features and target variable (TenYearCHD)\n",
    "X = df.drop('TenYearCHD', axis=1)\n",
    "y = df['TenYearCHD']\n",
    "\n",
    "# Full model training and testing (30%) \n",
    "X_train, X_test, y_train, y_test = train_test_split(X, y, test_size=0.3, random_state=42)\n",
    "\n",
    "# KNN model with K=5\n",
    "knn = KNeighborsClassifier(n_neighbors=5)\n",
    "knn.fit(X_train, y_train)\n",
    "\n",
    "y_pred = knn.predict(X_test)\n",
    "\n",
    "accuracy = accuracy_score(y_test, y_pred)\n",
    "conf_matrix = confusion_matrix(y_test, y_pred)\n",
    "\n",
    "# Print the accuracy, confusion matrix, and explain what the confuison matrix tells you\n",
    "print(f\"Accuracy: {accuracy:.4f}\")\n",
    "print(\"Confusion Matrix:\")\n",
    "print(conf_matrix)\n"
   ]
  },
  {
   "cell_type": "markdown",
   "metadata": {},
   "source": [
    "The confusion matrix is explaining the number of times the models classified the classes correctly or incorrectly."
   ]
  },
  {
   "cell_type": "code",
   "execution_count": 12,
   "metadata": {},
   "outputs": [
    {
     "data": {
      "image/png": "[encoded data removed]",
      "text/plain": [
       "<Figure size 640x480 with 1 Axes>"
      ]
     },
     "metadata": {},
     "output_type": "display_data"
    },
    {
     "name": "stdout",
     "output_type": "stream",
     "text": [
      "Best K value: 15\n"
     ]
    }
   ],
   "source": [
    "#Q1 (c)\n",
    "\n",
    "# Create a range from 1 to 50 going at steps of 2\n",
    "k_range = range(1, 51, 2)\n",
    "avg_accuracies = []\n",
    "\n",
    "\n",
    "# Store average accuracy at each k value use a for loop to compute the average accuracy over 10-fold cross validation for each k value\n",
    "for k in k_range:\n",
    "    knn = KNeighborsClassifier(n_neighbors=k)\n",
    "    scores = cross_val_score(knn, X, y, cv=10, scoring='accuracy')\n",
    "    avg_accuracies.append(scores.mean())\n",
    "\n",
    "# Plot the average accuracy for each k values\n",
    "plt.plot(k_range, avg_accuracies)\n",
    "plt.xlabel('K value')\n",
    "plt.ylabel('Average Accuracy')\n",
    "plt.title('Average Accuracy vs K value')\n",
    "plt.show()\n",
    "\n",
    "# Determine which k value you will choose\n",
    "best_k = k_range[np.argmax(avg_accuracies)]\n",
    "print(f\"Best K value: {best_k}\")"
   ]
  },
  {
   "cell_type": "markdown",
   "metadata": {},
   "source": [
    "# Question 2\n",
    "\n",
    "The goal of Q2 is to make a function that can calculate the weighted gini impurity over any grouping and any size of classes. \n",
    "\n",
    "(a) Calculate the gini impurity of the example by hand. Then write some code to do it for you. You will have to find $p_0$ and $p_1$ which are the probabilities of selecting a 0 and a 1 (respectively) from the group.\n",
    "\n",
    "(b) Now say we have two groups? Calculate the gini index of each group. Now, make a weighted sum of the gini numbers, each weighted by the proportion of the group size to the total number of entries (i.e. if group 1 is of length 10 and group 2 is of length 15, then group 1 would have a weight of 2/5 and group 2 a weight of 3/5).\n",
    "\n",
    "(c) Generalize that bit of code you wrote to now deal with any number of groups with any number of classes. Assume the groups will be given as a list of lists, and if there is an empty group the gini number will be 0 (there needs to be an if statement to make sure we do not divide by 0).\n",
    "\n",
    "(d) Make that bit of code into a function called gini_imp which takes a 'groups' variable and a 'classes' variable. It should return the gini index. Note, you need to use the classes variable because that is how you know what classes to check for in each group. Test it on the same example from part (c)"
   ]
  },
  {
   "cell_type": "code",
   "execution_count": 17,
   "metadata": {},
   "outputs": [
    {
     "name": "stdout",
     "output_type": "stream",
     "text": [
      "Gini Impurity: 0.444\n"
     ]
    }
   ],
   "source": [
    "#Q2 (a)\n",
    "\n",
    "###This is the example\n",
    "classes = [0,1]\n",
    "group = [0,0,0,1,1,0,1,0,0]\n",
    "\n",
    "class_value_counts = pd.Series(group).value_counts()\n",
    "\n",
    "# Gini Impurity Code\n",
    "def gini_impurity(value_counts):\n",
    "    n = value_counts.sum()\n",
    "    p_sum = 0\n",
    "    for key in value_counts.keys():\n",
    "        p_sum = p_sum + (value_counts[key] / n) * (value_counts[key] / n)\n",
    "    gini = 1 - p_sum\n",
    "    return gini\n",
    "\n",
    "\n",
    "gini = gini_impurity(class_value_counts)\n",
    "print(f\"Gini Impurity: {gini:.3f}\")"
   ]
  },
  {
   "cell_type": "code",
   "execution_count": 26,
   "metadata": {},
   "outputs": [
    {
     "name": "stdout",
     "output_type": "stream",
     "text": [
      "Weighted Gini Impurity: 0.438\n"
     ]
    }
   ],
   "source": [
    "#Q2 (b)\n",
    "classes = [0,1]\n",
    "groups = [[0,0,0,1],[0,0,1,1]]\n",
    "\n",
    "# Since I created the function to calculate the gini impurity, I will use it again\n",
    "def gini_impurity(value_counts):\n",
    "    n = value_counts.sum()\n",
    "    p_sum = 0\n",
    "    for key in value_counts.keys():\n",
    "        p_sum = p_sum + (value_counts[key] / n) * (value_counts[key] / n)\n",
    "    gini = 1 - p_sum\n",
    "    return gini\n",
    "\n",
    "#Take groups and classify seperately\n",
    "group_one = [0,0,0,1]\n",
    "group_two = [0,0,1,1]\n",
    "\n",
    "class_value_counts1 = pd.Series(group_one).value_counts()\n",
    "class_value_counts2 = pd.Series(group_two).value_counts()\n",
    "\n",
    "gini_one = gini_impurity(class_value_counts1)\n",
    "gini_two = gini_impurity(class_value_counts2)\n",
    "\n",
    "# Total length and weights\n",
    "total_length = len(group_one) + len(group_two)\n",
    "weight_one = len(group_one) / total_length\n",
    "weight_two = len(group_two) / total_length\n",
    "\n",
    "# Weighted sum of the gini numbers\n",
    "weighted_gini = (weight_one * gini_one) + (weight_two * gini_two)\n",
    "\n",
    "\n",
    "print(f\"Weighted Gini Impurity: {weighted_gini:.3f}\")"
   ]
  },
  {
   "cell_type": "code",
   "execution_count": 22,
   "metadata": {},
   "outputs": [
    {
     "name": "stdout",
     "output_type": "stream",
     "text": [
      "Generalized Gini Impurity: 0.5684\n"
     ]
    }
   ],
   "source": [
    "#Q2 (c)\n",
    "###test your bit of code with:\n",
    "classes = [0,1,2,3]\n",
    "groups = [[0,3,1,1,1],[0,0,0,1],[2,3,1,1],[],[0,0,1,1,2,2]]\n",
    "\n",
    "\n",
    "def gini_impurity(value_counts):\n",
    "    n = sum(value_counts.values())  \n",
    "    if n == 0: \n",
    "        return 0\n",
    "    p_sum = 0\n",
    "    for count in value_counts.values():\n",
    "        p_sum += (count / n) ** 2\n",
    "    gini = 1 - p_sum\n",
    "    return gini\n",
    "\n",
    "# Generalize that bit of code you wrote to now deal with any number of groups with any number of classes\n",
    "def generalized_gini(groups, classes):\n",
    "    total_instances = sum(len(group) for group in groups)  \n",
    "    gini_total = 0.0\n",
    "    \n",
    "    for group in groups:\n",
    "        if len(group) == 0:\n",
    "            continue  # needs to be an if statement to make sure we do not divide by 0\n",
    "        value_counts = {cls: group.count(cls) for cls in classes}  \n",
    "        group_size = len(group)\n",
    "        gini = gini_impurity(value_counts)\n",
    "        gini_total += (group_size / total_instances) * gini  \n",
    "    \n",
    "    return gini_total\n",
    "\n",
    "\n",
    "result = generalized_gini(groups, classes)\n",
    "print(f\"Generalized Gini Impurity: {result:.4f}\")\n",
    "\n",
    "\n",
    "###You should get a gini number equal to 0.5684"
   ]
  },
  {
   "cell_type": "code",
   "execution_count": 24,
   "metadata": {},
   "outputs": [
    {
     "name": "stdout",
     "output_type": "stream",
     "text": [
      "Gini Impurity: 0.5684\n"
     ]
    }
   ],
   "source": [
    "#Q2 (d)\n",
    "\n",
    "# gini_imp which takes a 'groups' variable and a 'classes' variable\n",
    "def gini_imp(groups, classes):\n",
    "    total_samples = sum(len(group) for group in groups)\n",
    "    gini = 0.0\n",
    "    \n",
    "    for group in groups:\n",
    "        size = float(len(group))\n",
    "        if size == 0:\n",
    "            continue\n",
    "        \n",
    "        score = 0.0\n",
    "        for class_val in classes:\n",
    "            p = group.count(class_val) / size\n",
    "            score += p * p\n",
    "        \n",
    "        gini += (1.0 - score) * (size / total_samples)\n",
    "    \n",
    "    return gini\n",
    "\n",
    "# Test with example from part c\n",
    "classes = [0,1,2,3]\n",
    "groups = [[0,3,1,1,1],[0,0,0,1],[2,3,1,1],[],[0,0,1,1,2,2]]\n",
    "\n",
    "result = gini_imp(groups, classes)\n",
    "print(f\"Gini Impurity: {result:.4f}\")"
   ]
  },
  {
   "cell_type": "markdown",
   "metadata": {},
   "source": [
    "# Question 3\n",
    "\n",
    "To make a full decision trees\n",
    "\n",
    "(a) Load the datasets titanic_train_data and titanic_test_data into dataframes and split them into X_train, X_test, y_train and y_test (the training sets are coming from the titanic train data and visa versa). Note, the first two columns should be deleted because they are just passenger Id's, also documentation about the data can be found here:https://www.kaggle.com/azeembootwala/titanic. Create a Decision Tree instance, fit the data on the training sets and get the accuracy score on the test set. Report the confusion matrix.\n",
    "\n",
    "(b) Split the X_train and y_train data into sets called X_train,X_val, y_train, y_val using train_test_split. We are going to try and tune some parameters in the Decision tree. Called a new Decision Tree instance with the following parameters: **max_features, max_depth, and min_samples_leaf**. Choose some value to test them with, and run the model a few times to see if you can get different accuracy scores (use the X_val and y_val to get the accuracy scores). What do these parameters do? (Look them up in the documentation)\n",
    "\n",
    "(c) We are going to use the validation sets to try and find the best parameter combinations. So, use a triple for loop to iterate over different ranges for each of the three parameters, find what combination gives the best accuracy on the validation set. Then, use that combination on a decision tree to classify the test set."
   ]
  },
  {
   "cell_type": "code",
   "execution_count": 54,
   "metadata": {},
   "outputs": [
    {
     "name": "stdout",
     "output_type": "stream",
     "text": [
      "Test Result:\n",
      "\n",
      "accuracy score: 0.8\n",
      "\n",
      "Confusion Matrix: \n",
      " [[52 12]\n",
      " [ 8 28]]\n",
      "\n"
     ]
    }
   ],
   "source": [
    "#Q3 (a)\n",
    "#Libraries for decision tree and random forest model\n",
    "from sklearn.tree import DecisionTreeClassifier\n",
    "from sklearn.ensemble import RandomForestClassifier\n",
    "from sklearn.model_selection import train_test_split\n",
    "\n",
    "# Load the datasets titanic_train_data and titanic_test_data into dataframes \n",
    "titanic_test_data  = pd.read_csv(\"titanic_test_data.csv\")\n",
    "titanic_train_data = pd.read_csv(\"titanic_train_data.csv\")\n",
    "\n",
    "#Delete first two columns for each training and test data\n",
    "X_train = titanic_train_data.drop(['Unnamed: 0', 'PassengerId', 'Survived'], axis=1)\n",
    "y_train = titanic_train_data['Survived']\n",
    "\n",
    "X_test = titanic_test_data.drop(['Unnamed: 0', 'PassengerId', 'Survived'], axis=1)\n",
    "y_test = titanic_test_data['Survived']\n",
    "\n",
    "tree_clf = DecisionTreeClassifier(random_state=42)\n",
    "tree_clf.fit(X_train, y_train)\n",
    "\n",
    "def print_score(clf, X_train, y_train, X_test, y_test, train=True, pos_label=\"Yes\"):\n",
    "    if train == False:\n",
    "        pred = clf.predict(X_test)\n",
    "        print(\"Test Result:\\n\")        \n",
    "        print(f\"accuracy score: {accuracy_score(y_test, pred)}\\n\")\n",
    "        print(f\"Confusion Matrix: \\n {confusion_matrix(y_test, pred)}\\n\")\n",
    "\n",
    "print_score(tree_clf, X_train, y_train, X_test, y_test, train=False)"
   ]
  },
  {
   "cell_type": "code",
   "execution_count": 68,
   "metadata": {},
   "outputs": [
    {
     "name": "stdout",
     "output_type": "stream",
     "text": [
      "max_features=log2, max_depth=5, min_samples_leaf=5 \n",
      " Validation Accuracy: 0.8406\n",
      "\n",
      "max_features=7, max_depth=10, min_samples_leaf=3 \n",
      " Validation Accuracy: 0.8160\n",
      "\n",
      "max_features=sqrt, max_depth=15, min_samples_leaf=2 \n",
      " Validation Accuracy: 0.8005\n",
      "\n",
      "max_features=None, max_depth=8, min_samples_leaf=4 \n",
      " Validation Accuracy: 0.8133\n",
      "\n",
      "X_train features: ['male', 'age', 'education', 'currentSmoker', 'cigsPerDay', 'BPMeds', 'prevalentStroke', 'prevalentHyp', 'diabetes', 'totChol', 'sysBP', 'diaBP', 'BMI', 'heartRate', 'glucose']\n",
      "X_val features: ['male', 'age', 'education', 'currentSmoker', 'cigsPerDay', 'BPMeds', 'prevalentStroke', 'prevalentHyp', 'diabetes', 'totChol', 'sysBP', 'diaBP', 'BMI', 'heartRate', 'glucose']\n",
      "X_test features: ['Sex', 'Age', 'Fare', 'Pclass_1', 'Pclass_2', 'Pclass_3', 'Family_size', 'Title_1', 'Title_2', 'Title_3', 'Title_4', 'Emb_1', 'Emb_2', 'Emb_3']\n"
     ]
    }
   ],
   "source": [
    "#Q3 (b)\n",
    "\n",
    "# Split the X_train and y_train data into sets called X_train,X_val, y_train, y_val using train_test_split\n",
    "X_train, X_val, y_train, y_val = train_test_split(X, y, test_size=0.3, random_state=42)\n",
    "\n",
    "# Function to train and evaluate the Decision Tree\n",
    "def train_and_evaluate(max_features, max_depth, min_samples_leaf):\n",
    "    dt = DecisionTreeClassifier(\n",
    "        max_features=max_features,\n",
    "        max_depth=max_depth,\n",
    "        min_samples_leaf=min_samples_leaf,\n",
    "        random_state=42\n",
    "    )\n",
    "    dt.fit(X_train, y_train)\n",
    "    y_pred = dt.predict(X_val)\n",
    "    return accuracy_score(y_val, y_pred)\n",
    "\n",
    "# Choose some value to test them with \n",
    "param_combinations = [\n",
    "    ('log2', 5, 5),\n",
    "    (7, 10, 3),\n",
    "    ('sqrt', 15, 2),\n",
    "    (None, 8, 4)\n",
    "]\n",
    "\n",
    "# Run the model a few times to see if you can get different accuracy scores (use the X_val and y_val to get the accuracy scores)\n",
    "for max_features, max_depth, min_samples_leaf in param_combinations:\n",
    "    accuracy = train_and_evaluate(max_features, max_depth, min_samples_leaf)\n",
    "    print(f\"max_features={max_features}, max_depth={max_depth}, min_samples_leaf={min_samples_leaf} \\n Validation Accuracy: {accuracy:.4f}\\n\")\n",
    "\n",
    "print(\"X_train features:\", X_train.columns.tolist())\n",
    "print(\"X_val features:\", X_val.columns.tolist())\n",
    "print(\"X_test features:\", X_test.columns.tolist())"
   ]
  },
  {
   "cell_type": "markdown",
   "metadata": {},
   "source": [
    "- **max_features**: Specifies the number of features to consider when looking for the best split in a decision tree. It helps to reduce overfitting by limiting the amount of information each tree has access to, encouraging diversity among the trees in the forest.\n",
    "- **max_depth**: Limits the depth of the decision tree, preventing it from growing too deep and capturing noise in the data, which can lead to overfitting.\n",
    "- **min_samples_leaf**: Sets the minimum number of samples that a leaf node must have. Increasing this value ensures that the model doesn't create overly specific branches, helping to generalize better and avoid overfitting.\n",
    "\n",
    "Balancing these parameters is key: too many trees or too much depth can overfit, while too few may underfit."
   ]
  },
  {
   "cell_type": "code",
   "execution_count": 64,
   "metadata": {},
   "outputs": [
    {
     "name": "stdout",
     "output_type": "stream",
     "text": [
      "Best parameters: {'max_features': None, 'max_depth': 6, 'min_samples_leaf': 10}\n",
      "Best validation accuracy: 0.8583\n",
      "Test accuracy with best parameters: 0.8500\n",
      "Confusion Matrix for the final model:\n",
      "[[59  5]\n",
      " [10 26]]\n"
     ]
    }
   ],
   "source": [
    "#Q3 (c)\n",
    "\n",
    "#  X_train, X_val, y_train, y_val, X_test, y_test are already defined\n",
    "\n",
    "def train_and_evaluate(max_features, max_depth, min_samples_leaf):\n",
    "    dt = DecisionTreeClassifier(\n",
    "        max_features=max_features,\n",
    "        max_depth=max_depth,\n",
    "        min_samples_leaf=min_samples_leaf,\n",
    "        random_state=42\n",
    "    )\n",
    "    dt.fit(X_train, y_train)\n",
    "    y_pred = dt.predict(X_val)\n",
    "    return accuracy_score(y_val, y_pred)\n",
    "\n",
    "# Define parameter ranges\n",
    "max_features_range = [None, 'sqrt', 'log2'] + list(range(1, X_train.shape[1] + 1))\n",
    "max_depth_range = [None] + list(range(1, 21))\n",
    "min_samples_leaf_range = range(1, 11)\n",
    "\n",
    "best_accuracy = 0\n",
    "best_params = {}\n",
    "\n",
    "# Use a triple for loop to iterate over different ranges for each of the three parameters\n",
    "for max_features in max_features_range:\n",
    "    for max_depth in max_depth_range:\n",
    "        for min_samples_leaf in min_samples_leaf_range:\n",
    "            accuracy = train_and_evaluate(max_features, max_depth, min_samples_leaf)\n",
    "            if accuracy > best_accuracy:\n",
    "                best_accuracy = accuracy #find the best parameters\n",
    "                best_params = {\n",
    "                    'max_features': max_features,\n",
    "                    'max_depth': max_depth,\n",
    "                    'min_samples_leaf': min_samples_leaf\n",
    "                }\n",
    "                \n",
    "# Print those parameters out and then test them\n",
    "print(\"Best parameters:\", best_params)\n",
    "print(f\"Best validation accuracy: {best_accuracy:.4f}\")\n",
    "\n",
    "# Train to see if they are the best and then evaulate the test set\n",
    "final_dt = DecisionTreeClassifier(random_state=42, **best_params)\n",
    "final_dt.fit(X_train, y_train)\n",
    "y_pred_test = final_dt.predict(X_test)\n",
    "test_accuracy = accuracy_score(y_test, y_pred_test)\n",
    "print(f\"Test accuracy with best parameters: {test_accuracy:.4f}\")\n",
    "\n",
    "# Print confusion matrix\n",
    "from sklearn.metrics import confusion_matrix\n",
    "conf_matrix = confusion_matrix(y_test, y_pred_test)\n",
    "print(\"Confusion Matrix for the final model:\")\n",
    "print(conf_matrix)"
   ]
  },
  {
   "cell_type": "markdown",
   "metadata": {},
   "source": [
    "# Question 4\n",
    "\n",
    "Let's move onto random forests, we'll be doing more parameter tuning here.\n",
    "\n",
    "(a) With the original train and test sets, run a Random Forest model on the data and report the accuracy score. How does it compare to the scores in Question 3?\n",
    "\n",
    "(b) Create the train and validation sets again, and create a Random Forest Classifier with the following parameters: **n_estimators, max_leaf_nodes, max_depth**, with some values. What do this parameters do? (Again look up the documentation) Run the model and see how the accuracy changes. Change the values and try to get a higher accuracy.\n",
    "\n",
    "(c) Similar to Question 3 part (c), use a triple for loop to iterate over combinations of parameter values for the random forest and find one that is optimal in accuracy. How does this accuracy compare to the others we have seen?\n",
    "\n",
    "Note: This kind of parameter opimization can be done using built in python functions, GridSearchCV and RandomSearchCV both are methods that take in some kind of range / distribution for the parameters and finds the best one (and uses cross validation which is a bonus)."
   ]
  },
  {
   "cell_type": "code",
   "execution_count": 144,
   "metadata": {},
   "outputs": [
    {
     "name": "stdout",
     "output_type": "stream",
     "text": [
      "Test Result:\n",
      "\n",
      "accuracy score: 0.86\n",
      "\n",
      "Confusion Matrix: \n",
      " [[58  6]\n",
      " [ 8 28]]\n",
      "\n"
     ]
    }
   ],
   "source": [
    "#Q4 (a)\n",
    "from sklearn.ensemble import RandomForestClassifier\n",
    "from sklearn.metrics import accuracy_score\n",
    "\n",
    "# Use the same data as before\n",
    "X_train = titanic_train_data.drop(['Unnamed: 0', 'PassengerId', 'Survived'], axis=1)\n",
    "y_train = titanic_train_data['Survived']\n",
    "X_test = titanic_test_data.drop(['Unnamed: 0', 'PassengerId', 'Survived'], axis=1)\n",
    "y_test = titanic_test_data['Survived']\n",
    "\n",
    "# Fitting the random forest model using RandomForestClassifier\n",
    "rf_clf = RandomForestClassifier(n_estimators=100)\n",
    "rf_clf.fit(X_train, y_train)\n",
    "\n",
    "# report the accuracy score\n",
    "print_score(rf_clf, X_train, y_train, X_test, y_test, train=False)"
   ]
  },
  {
   "cell_type": "markdown",
   "metadata": {},
   "source": [
    "The accuracy score between the decision tree and the random forest is similar, with the random forest having a higher accuracy rate being around .05 higher."
   ]
  },
  {
   "cell_type": "code",
   "execution_count": 62,
   "metadata": {},
   "outputs": [
    {
     "name": "stdout",
     "output_type": "stream",
     "text": [
      "n_estimators=100, max_leaf_nodes=50, max_depth=10, max_features=sqrt\n",
      "Validation Accuracy: 0.8268\n",
      "\n",
      "n_estimators=200, max_leaf_nodes=None, max_depth=15, max_features=log2\n",
      "Validation Accuracy: 0.8268\n",
      "\n",
      "n_estimators=150, max_leaf_nodes=100, max_depth=None, max_features=None\n",
      "Validation Accuracy: 0.8346\n",
      "\n"
     ]
    }
   ],
   "source": [
    "#Q4 (b)\n",
    "from sklearn.model_selection import train_test_split\n",
    "\n",
    "# Split the training data into train and validation sets\n",
    "X_train, X_val, y_train, y_val = train_test_split(X_train, y_train, test_size=0.2, random_state=42)\n",
    "\n",
    "def train_and_evaluate_rf(n_estimators, max_leaf_nodes, max_depth, max_features):\n",
    "    rf = RandomForestClassifier(\n",
    "        n_estimators=n_estimators,\n",
    "        max_leaf_nodes=max_leaf_nodes,\n",
    "        max_depth=max_depth,\n",
    "        max_features=max_features,\n",
    "        min_samples_leaf=min_samples_leaf,\n",
    "        random_state=42\n",
    "    )\n",
    "    rf.fit(X_train, y_train)\n",
    "    y_pred = rf.predict(X_val)\n",
    "    accuracy = accuracy_score(y_val, y_pred)\n",
    "    return accuracy\n",
    "\n",
    "# Test different parameter combinations\n",
    "param_combinations = [\n",
    "    (100, 50, 10, 'sqrt', 2),\n",
    "    (200, None, 15, 'log2', 5),\n",
    "    (150, 100, None, None, 3)\n",
    "]\n",
    "\n",
    "for n_estimators, max_leaf_nodes, max_depth, max_features, min_samples_leaf in param_combinations:\n",
    "    accuracy = train_and_evaluate_rf(n_estimators, max_leaf_nodes, max_depth, max_features)\n",
    "    print(f\"n_estimators={n_estimators}, max_leaf_nodes={max_leaf_nodes}, max_depth={max_depth}, max_features={max_features}\")\n",
    "    print(f\"Validation Accuracy: {accuracy:.4f}\\n\")"
   ]
  },
  {
   "cell_type": "code",
   "execution_count": 89,
   "metadata": {},
   "outputs": [
    {
     "name": "stdout",
     "output_type": "stream",
     "text": [
      "Grid Search Results:\n",
      "Best Parameters: {'n_estimators': 50, 'max_depth': 15, 'max_leaf_nodes': 2}\n",
      "Best Test Accuracy: 0.8402\n",
      "\n",
      "GridSearchCV Results:\n",
      "Best Parameters: {'max_depth': 5, 'max_leaf_nodes': 2, 'n_estimators': 50}\n",
      "Best Cross-Validation Accuracy: 0.8513\n",
      "Test Set Accuracy: 0.8333\n"
     ]
    }
   ],
   "source": [
    "#Q4 (c)\n",
    "from sklearn.model_selection import train_test_split, GridSearchCV\n",
    "\n",
    "X_train, X_test, y_train, y_test = train_test_split(X, y, test_size=0.2, random_state=42)\n",
    "\n",
    "# Define parameters using the same ranges as befpre\n",
    "param_grid = {\n",
    "    'n_estimators': [50, 100, 200],\n",
    "    'max_depth': [5, 10, 15, None],\n",
    "    'max_leaf_nodes': [2, 5, 10]\n",
    "}\n",
    "\n",
    "\n",
    "# Use a triple for loop to iterate over combinations of parameter values for the random forest and find one that is optimal in accuracy\n",
    "# Same as before\n",
    "best_accuracy = 0\n",
    "best_params = {}\n",
    "\n",
    "for n_est in param_grid['n_estimators']:\n",
    "    for depth in param_grid['max_depth']:\n",
    "        for min_samples in param_grid['max_leaf_nodes']:\n",
    "            rf = RandomForestClassifier(\n",
    "                n_estimators=n_est,\n",
    "                max_depth=depth,\n",
    "                min_samples_split=min_samples,\n",
    "                random_state=42\n",
    "            )\n",
    "            rf.fit(X_train, y_train)\n",
    "            accuracy = accuracy_score(y_test, rf.predict(X_test))\n",
    "            \n",
    "            if accuracy > best_accuracy:\n",
    "                best_accuracy = accuracy\n",
    "                best_params = {\n",
    "                    'n_estimators': n_est,\n",
    "                    'max_depth': depth,\n",
    "                    'max_leaf_nodes': min_samples\n",
    "                }\n",
    "\n",
    "print(\"Grid Search Results:\")\n",
    "print(f\"Best Parameters: {best_params}\")\n",
    "print(f\"Best Test Accuracy: {best_accuracy:.4f}\")\n",
    "\n",
    "# Using the GridSearchCV methods\n",
    "rf = RandomForestClassifier(random_state=42)\n",
    "grid_search = GridSearchCV(\n",
    "    estimator=rf,\n",
    "    param_grid=param_grid,\n",
    "    cv=5,  \n",
    "    scoring='accuracy',\n",
    "    n_jobs=-1  \n",
    ")\n",
    "\n",
    "# Fit the grid search\n",
    "grid_search.fit(X_train, y_train)\n",
    "\n",
    "# Get the best parameters and accuracyscore\n",
    "print(\"\\nGridSearchCV Results:\")\n",
    "print(f\"Best Parameters: {grid_search.best_params_}\")\n",
    "print(f\"Best Cross-Validation Accuracy: {grid_search.best_score_:.4f}\")\n",
    "\n",
    "# Get the grid search accruacy\n",
    "grid_search_accuracy = accuracy_score(y_test, grid_search.predict(X_test))\n",
    "print(f\"Test Set Accuracy: {grid_search_accuracy:.4f}\")"
   ]
  },
  {
   "cell_type": "markdown",
   "metadata": {},
   "source": [
    "Both methods found similar solutions, with there being only slight difference, which proves that GridSearchCV didn't significantly outperform the manual search on the test set."
   ]
  },
  {
   "cell_type": "markdown",
   "metadata": {},
   "source": [
    "# Bonus\n",
    "\n",
    "Come up with an analogy for decision tree's v. random forest's and why random forests avoid the problem of overfitting. (+5)"
   ]
  },
  {
   "cell_type": "markdown",
   "metadata": {},
   "source": [
    "An analogy for decision tree's v. random forest's is figuring out which areas of a forest could be at risk of deforestation. A single ranger could use perosnal rules due to years of experiences to assess risk, but that could also lead to the assesment being overly biased due to the specific experiences that the ranger had. If you create a larger team to asses the forest, such as scientists,rangers, community members, each will provide varied expertise and perspectives. By combining their assessments, the team creates a more balanced and accurate evaluation of forest vulnerability. This is similar to how a random forest model, which consists of multiple decision trees trained on different subsets of data, reduces the risk of overfitting by averaging the predictions of many diverse trees rather than relying on the potentially biased judgment of a single tree."
   ]
  },
  {
   "cell_type": "code",
   "execution_count": null,
   "metadata": {},
   "outputs": [],
   "source": []
  }
 ],
 "metadata": {
  "kernelspec": {
   "display_name": "Python 3 (ipykernel)",
   "language": "python",
   "name": "python3"
  },
  "language_info": {
   "codemirror_mode": {
    "name": "ipython",
    "version": 3
   },
   "file_extension": ".py",
   "mimetype": "text/x-python",
   "name": "python",
   "nbconvert_exporter": "python",
   "pygments_lexer": "ipython3",
   "version": "3.12.7"
  }
 },
 "nbformat": 4,
 "nbformat_minor": 4
}
