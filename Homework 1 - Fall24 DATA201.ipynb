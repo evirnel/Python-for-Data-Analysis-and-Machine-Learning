{
 "cells": [
  {
   "cell_type": "markdown",
   "id": "f1811538",
   "metadata": {},
   "source": [
    "# Homework 1\n",
    "\n",
    "### Name:\n",
    "### Collaborator:\n",
    "\n",
    "\n",
    "DATA 201\n",
    "\n",
    "Fall 2024\n",
    "\n",
    "Tufts University"
   ]
  },
  {
   "cell_type": "markdown",
   "id": "17a876f9",
   "metadata": {},
   "source": [
    "## 1. Data Types"
   ]
  },
  {
   "cell_type": "markdown",
   "id": "17b0efc1",
   "metadata": {},
   "source": [
    "### Exercise 1.1: Identify the type of each of the following: 5, 5.5, \"Student\", False."
   ]
  },
  {
   "cell_type": "code",
   "execution_count": null,
   "id": "6a5c9601",
   "metadata": {},
   "outputs": [],
   "source": [
    "# Your code here"
   ]
  },
  {
   "cell_type": "markdown",
   "id": "58f580d0",
   "metadata": {},
   "source": [
    "### Exercise 1.2: Convert the integer 97 into a float, string, and boolean."
   ]
  },
  {
   "cell_type": "code",
   "execution_count": null,
   "id": "f3d4c07f",
   "metadata": {},
   "outputs": [],
   "source": [
    "# Your code here"
   ]
  },
  {
   "cell_type": "markdown",
   "id": "628978de",
   "metadata": {},
   "source": [
    "## 2. Operators"
   ]
  },
  {
   "cell_type": "markdown",
   "id": "b658a8c6",
   "metadata": {},
   "source": [
    "### Exercise 2.1: Use arithmetic operators to calculate the area of a circle with radius 7. Take pi = 3.14"
   ]
  },
  {
   "cell_type": "code",
   "execution_count": null,
   "id": "955f1b34",
   "metadata": {},
   "outputs": [],
   "source": [
    "# Your code here"
   ]
  },
  {
   "cell_type": "markdown",
   "id": "6829f0b6",
   "metadata": {},
   "source": [
    "### Exercise 2.2: Determine if the number 32 is even using the modulus operator."
   ]
  },
  {
   "cell_type": "code",
   "execution_count": null,
   "id": "923479fe",
   "metadata": {},
   "outputs": [],
   "source": [
    "# Your code here"
   ]
  },
  {
   "cell_type": "markdown",
   "id": "8088ec20",
   "metadata": {},
   "source": [
    "## 3. Data Structures"
   ]
  },
  {
   "cell_type": "markdown",
   "id": "0a17336e",
   "metadata": {},
   "source": [
    "### Exercise 3.1: Create a list of 4 of your favorite fruits."
   ]
  },
  {
   "cell_type": "code",
   "execution_count": null,
   "id": "427da231",
   "metadata": {},
   "outputs": [],
   "source": [
    "# Your code here"
   ]
  },
  {
   "cell_type": "markdown",
   "id": "daccc772",
   "metadata": {},
   "source": [
    "### Exercise 3.2: Add a new fruit to your list."
   ]
  },
  {
   "cell_type": "code",
   "execution_count": null,
   "id": "dc76a9e5",
   "metadata": {},
   "outputs": [],
   "source": [
    "# Your code here"
   ]
  },
  {
   "cell_type": "markdown",
   "id": "8984808a",
   "metadata": {},
   "source": [
    "### Exercise 3.3: Convert your fruit list to a tuple."
   ]
  },
  {
   "cell_type": "code",
   "execution_count": null,
   "id": "63cae7ff",
   "metadata": {},
   "outputs": [],
   "source": [
    "# Your code here"
   ]
  },
  {
   "cell_type": "markdown",
   "id": "b2c851cb",
   "metadata": {},
   "source": [
    "### Exercise 3.4: Create a set from the fruit list."
   ]
  },
  {
   "cell_type": "code",
   "execution_count": null,
   "id": "b7ccf051",
   "metadata": {},
   "outputs": [],
   "source": [
    "# Your code here"
   ]
  },
  {
   "cell_type": "markdown",
   "id": "809328b6",
   "metadata": {},
   "source": [
    "### Exercise 3.5: Create a dictionary where fruits are keys and their colors are values."
   ]
  },
  {
   "cell_type": "code",
   "execution_count": 1,
   "id": "62a7f725",
   "metadata": {},
   "outputs": [],
   "source": [
    "# Your code here"
   ]
  },
  {
   "cell_type": "markdown",
   "id": "d65ae132",
   "metadata": {},
   "source": [
    "### Exercise 3.6: Add a new fruit 'Grape' with colours/values 'green' and 'red' to the dictionary."
   ]
  },
  {
   "cell_type": "code",
   "execution_count": null,
   "id": "8ce5d957",
   "metadata": {},
   "outputs": [],
   "source": [
    "# Your code here"
   ]
  },
  {
   "cell_type": "markdown",
   "id": "05181103",
   "metadata": {},
   "source": [
    "## 4. Functions"
   ]
  },
  {
   "cell_type": "markdown",
   "id": "35e66d1e",
   "metadata": {},
   "source": [
    "### Exercise 4.1: Write a function that returns the remainder of the division of any two numbers."
   ]
  },
  {
   "cell_type": "code",
   "execution_count": null,
   "id": "15bba603",
   "metadata": {},
   "outputs": [],
   "source": [
    "# Your code here"
   ]
  },
  {
   "cell_type": "markdown",
   "id": "22f5bd3e",
   "metadata": {},
   "source": [
    "### Exercise 4.2: Write a function that reverses a string without using Python's built-in reverse functions."
   ]
  },
  {
   "cell_type": "code",
   "execution_count": null,
   "id": "7f228e01",
   "metadata": {},
   "outputs": [],
   "source": [
    "# Your code here"
   ]
  },
  {
   "cell_type": "markdown",
   "id": "9603deb0",
   "metadata": {},
   "source": [
    "## 5. Control Structures"
   ]
  },
  {
   "cell_type": "markdown",
   "id": "df025fae",
   "metadata": {},
   "source": [
    "### Exercise 5.1: Write an if-else structure that prints whether a number is positive, negative, or zero."
   ]
  },
  {
   "cell_type": "code",
   "execution_count": null,
   "id": "55ebd045",
   "metadata": {},
   "outputs": [],
   "source": [
    "# Your code here"
   ]
  },
  {
   "cell_type": "markdown",
   "id": "45b20dc2",
   "metadata": {},
   "source": [
    "### Exercise 5.2: Given a list of grades: grades = [85, 90, 78, 92, 88, 76, 72, 95, 89], write an if-else structure that prints:\n",
    "\n",
    "- \"Excellent\" if the average grade is 95 and above,\n",
    "- \"Good\" if the average grade is between 85 and 94, inclusive,\n",
    "- \"Average\" if the average grade is between 75 and 84, inclusive, and\n",
    "- \"Poor\" otherwise."
   ]
  },
  {
   "cell_type": "code",
   "execution_count": null,
   "id": "f495a880",
   "metadata": {},
   "outputs": [],
   "source": [
    "# Your code here"
   ]
  },
  {
   "cell_type": "markdown",
   "id": "d4e0e48a",
   "metadata": {},
   "source": [
    "### Exercise 5.3: Given a variable day that represents a day of the week, use an if-elif-else structure to print:\n",
    "\n",
    "- \"Weekend\" if the day is \"Saturday\" or \"Sunday\",\n",
    "- \"Weekday\" if the day is one of the other 5 days of the week,\n",
    "- \"Invalid\" if the input doesn't match any day of the week."
   ]
  },
  {
   "cell_type": "code",
   "execution_count": null,
   "id": "2d21c075",
   "metadata": {},
   "outputs": [],
   "source": [
    "# Your code here"
   ]
  },
  {
   "cell_type": "markdown",
   "id": "bde32896",
   "metadata": {},
   "source": [
    "## 6. Loop and Control Statements"
   ]
  },
  {
   "cell_type": "markdown",
   "id": "4d87486c",
   "metadata": {},
   "source": [
    "### Exercise 6.1: Using a for loop, print numbers from 1 to 10."
   ]
  },
  {
   "cell_type": "code",
   "execution_count": null,
   "id": "3d88998b",
   "metadata": {},
   "outputs": [],
   "source": [
    "# Your code here"
   ]
  },
  {
   "cell_type": "markdown",
   "id": "96d8f6b8",
   "metadata": {},
   "source": [
    "### Exercise 6.2: Using a while loop, print numbers from 1 to 10."
   ]
  },
  {
   "cell_type": "code",
   "execution_count": null,
   "id": "34b145d2",
   "metadata": {},
   "outputs": [],
   "source": [
    "# Your code here"
   ]
  },
  {
   "cell_type": "markdown",
   "id": "7ff114e4",
   "metadata": {},
   "source": [
    "### Exercise 6.3: Using a for loop and continue statement, print all odd numbers from 1 to 20."
   ]
  },
  {
   "cell_type": "code",
   "execution_count": null,
   "id": "a164fa73",
   "metadata": {},
   "outputs": [],
   "source": [
    "# Your code here"
   ]
  },
  {
   "cell_type": "markdown",
   "id": "a16a9648",
   "metadata": {},
   "source": [
    "### Exercise 6.4: Using a for loop and break statement, print all even numbers from 1 to 20, break at 10."
   ]
  },
  {
   "cell_type": "code",
   "execution_count": null,
   "id": "88e70601",
   "metadata": {},
   "outputs": [],
   "source": [
    "# Your code here"
   ]
  }
 ],
 "metadata": {
  "kernelspec": {
   "display_name": "Python 3 (ipykernel)",
   "language": "python",
   "name": "python3"
  },
  "language_info": {
   "codemirror_mode": {
    "name": "ipython",
    "version": 3
   },
   "file_extension": ".py",
   "mimetype": "text/x-python",
   "name": "python",
   "nbconvert_exporter": "python",
   "pygments_lexer": "ipython3",
   "version": "3.11.4"
  }
 },
 "nbformat": 4,
 "nbformat_minor": 5
}
